{
 "cells": [
  {
   "cell_type": "code",
   "execution_count": 2,
   "id": "761d4e6b",
   "metadata": {},
   "outputs": [],
   "source": [
    "import numpy as np\n",
    "from math import lgamma"
   ]
  },
  {
   "cell_type": "markdown",
   "id": "d437736f",
   "metadata": {},
   "source": [
    "## Read data"
   ]
  },
  {
   "cell_type": "code",
   "execution_count": 3,
   "id": "0752069c",
   "metadata": {},
   "outputs": [],
   "source": [
    "## Data file should be strings of 0s and 1s without spacing\n",
    "def read_data(filename):\n",
    "    Kset = {}\n",
    "    N = 0\n",
    "    with open(filename, 'r') as file:\n",
    "        for line in file.readlines():\n",
    "            s = int(line[:n],2)\n",
    "            N += 1\n",
    "            if s in Kset:\n",
    "                Kset[s] += 1\n",
    "            else:\n",
    "                Kset[s] = 1\n",
    "    return Kset, N"
   ]
  },
  {
   "cell_type": "code",
   "execution_count": 4,
   "id": "bad1d551",
   "metadata": {},
   "outputs": [],
   "source": [
    "def print_partition(MCM):\n",
    "    for com,ICC in MCM.items():\n",
    "        binary = bin(ICC).replace(\"0b\", \"\")\n",
    "        missing = n - len(binary)\n",
    "        print(f'com {com}\\t' + '0'*missing + binary)"
   ]
  },
  {
   "cell_type": "markdown",
   "id": "cc0530a0",
   "metadata": {},
   "source": [
    "## Calculate log evidence"
   ]
  },
  {
   "cell_type": "code",
   "execution_count": 5,
   "id": "84351e88",
   "metadata": {},
   "outputs": [],
   "source": [
    "def complexity(m):\n",
    "    power = 1 << (m-1)\n",
    "    return np.log(np.pi) * power - np.math.lgamma(power)\n",
    "\n",
    "def project_icc(Kset, ICC):\n",
    "    new_Kset = {}\n",
    "    for s,ks in Kset.items():\n",
    "        s_new = s & ICC\n",
    "        if s_new in new_Kset:\n",
    "            new_Kset[s_new] += ks\n",
    "        else:\n",
    "            new_Kset[s_new] = ks\n",
    "    return new_Kset, bin(ICC).count(\"1\")\n",
    "\n",
    "def log_evidence_ICC(Kset, ICC):\n",
    "    LogE = 0\n",
    "    new_Kset, nNode = project_icc(Kset, ICC)\n",
    "    for s,ks in new_Kset.items():\n",
    "        LogE += np.math.lgamma(ks + 0.5)\n",
    "    LogE -= (complexity(nNode) + np.math.lgamma(N + (1 << (nNode - 1))))\n",
    "    return LogE\n",
    "\n",
    "def log_evidence_MCM(Kset, MCM):\n",
    "    LogE = 0\n",
    "    for _,ICC in MCM.items():\n",
    "        LogE += log_evidence_ICC(Kset, ICC)\n",
    "    return LogE"
   ]
  },
  {
   "cell_type": "markdown",
   "id": "6239055a",
   "metadata": {},
   "source": [
    "## Hierarchical merging"
   ]
  },
  {
   "cell_type": "code",
   "execution_count": 6,
   "id": "40a43e98",
   "metadata": {},
   "outputs": [],
   "source": [
    "def merging(Kset):\n",
    "    MCM = {}\n",
    "    logE_MCM = {}\n",
    "    \n",
    "    for i in range(n):\n",
    "        MCM[i] = (1 << i)\n",
    "        logE_MCM[i] = log_evidence_ICC(Kset, MCM[i])\n",
    "    \n",
    "    logE_mat = np.zeros((n,n))\n",
    "    \n",
    "    stop = False\n",
    "    \n",
    "    while not stop and len(MCM)-1:\n",
    "        best_diff = 0\n",
    "        for i,node1 in MCM.items():\n",
    "            for j,node2 in MCM.items():\n",
    "                if i>=j:\n",
    "                    continue\n",
    "\n",
    "                if not logE_mat[i,j]:\n",
    "                    logE_mat[i,j] = log_evidence_ICC(Kset, node1 + node2)\n",
    "                    logE_mat[j,i] = logE_mat[i,j]\n",
    "                \n",
    "                if logE_mat[i,j] - logE_MCM[i] - logE_MCM[j] > best_diff:\n",
    "                    best_diff = logE_mat[i,j] - logE_MCM[i] - logE_MCM[j]\n",
    "                    best_merger = [[i,node1], [j,node2]]\n",
    "                    \n",
    "        if best_diff == 0:\n",
    "            stop = True\n",
    "            continue\n",
    "        \n",
    "        i_keep = best_merger[0][0]; node_keep = best_merger[0][1]\n",
    "        i_erase = best_merger[1][0]; node_erase = best_merger[1][1]\n",
    "                \n",
    "        logE_MCM[i_keep] = logE_mat[i_keep, i_erase] \n",
    "        MCM[i_keep] = node_keep + node_erase\n",
    "        \n",
    "        logE_MCM.pop(i_erase)\n",
    "        MCM.pop(i_erase)\n",
    "        \n",
    "        logE_mat[i_keep,:] = 0\n",
    "        logE_mat[:,i_keep] = 0\n",
    "        \n",
    "    return MCM, sum([items for _,items in logE_MCM.items()])"
   ]
  },
  {
   "cell_type": "markdown",
   "id": "fddd6780",
   "metadata": {},
   "source": [
    "## Measures"
   ]
  },
  {
   "cell_type": "code",
   "execution_count": 7,
   "id": "1242d99d",
   "metadata": {},
   "outputs": [],
   "source": [
    "def norm_mut_info(MCM1, MCM2):\n",
    "    I = 0\n",
    "    H = 0\n",
    "    flag = 0\n",
    "    for _,ICC1 in MCM1.items():\n",
    "        p1 = bin(ICC1).count(\"1\") / n\n",
    "        for _,ICC2 in MCM2.items():\n",
    "            p2 = bin(ICC2).count(\"1\") / n\n",
    "            p12 = bin(ICC1 & ICC2).count(\"1\") / n\n",
    "            if p12:\n",
    "                I += p12 * np.log(p12/(p1*p2))\n",
    "            if flag < len(MCM2):\n",
    "                H += p2 * np.log(p2)\n",
    "                flag += 1\n",
    "        H += p1 * np.log(p1)\n",
    "    \n",
    "    if not H:\n",
    "        return 1\n",
    "    else:\n",
    "        return -2*I/H"
   ]
  },
  {
   "cell_type": "code",
   "execution_count": 8,
   "id": "17b35f90",
   "metadata": {},
   "outputs": [],
   "source": [
    "def var_of_info(MCM1, MCM2):\n",
    "    I = 0\n",
    "    H = 0\n",
    "    for _,ICC1 in MCM1.items():\n",
    "        p1 = bin(ICC1).count(\"1\") / n\n",
    "        for _,ICC2 in MCM2.items():\n",
    "            p2 = bin(ICC2).count(\"1\") / n\n",
    "            p12 = bin(ICC1 & ICC2).count(\"1\") / n\n",
    "            if p12:\n",
    "                I += p12 * np.log(p12/(p1*p2))\n",
    "                H += p12 * np.log(p12)\n",
    "    \n",
    "    if not H:\n",
    "        return 0\n",
    "    else:\n",
    "        return 1 + I/H"
   ]
  },
  {
   "cell_type": "markdown",
   "id": "cca5d3cc",
   "metadata": {},
   "source": [
    "## Tests"
   ]
  },
  {
   "cell_type": "code",
   "execution_count": 9,
   "id": "d9270fc3",
   "metadata": {},
   "outputs": [
    {
     "name": "stdout",
     "output_type": "stream",
     "text": [
      "log-evidence: -121743.93\n",
      "com 0\t00000000000111000101\n",
      "com 1\t00100100000000101010\n",
      "com 4\t01000010110000010000\n",
      "com 9\t10011001001000000000\n"
     ]
    }
   ],
   "source": [
    "n = 20 ## specify number of nodes\n",
    "filename = 'benchmark.dat' ## Give filename or path to file if not in the same folder\n",
    "\n",
    "Kset, N = read_data(filename)\n",
    "\n",
    "## MCM is a dictionary where the items are integers that represent communities when converted to binary.\n",
    "## n = 4: 11 ~ 1101, 2 ~ 0010. This would imply that node 1,2,4 are in the same community and that node 3 is a community\n",
    "## by itself.\n",
    "MCM, logE = merging(Kset)\n",
    "\n",
    "print(f'log-evidence: {logE:.2f}')\n",
    "print_partition(MCM)"
   ]
  },
  {
   "cell_type": "code",
   "execution_count": 10,
   "id": "4f482a51",
   "metadata": {},
   "outputs": [
    {
     "name": "stdout",
     "output_type": "stream",
     "text": [
      "0.5\n",
      "0.6666666666666667\n"
     ]
    }
   ],
   "source": [
    "big = {0 : MCM[0] + MCM[1], 1 : MCM[4] + MCM[9]}\n",
    "\n",
    "print(var_of_info(MCM,big))\n",
    "print(norm_mut_info(MCM,big))"
   ]
  }
 ],
 "metadata": {
  "kernelspec": {
   "display_name": "Python 3 (ipykernel)",
   "language": "python",
   "name": "python3"
  },
  "language_info": {
   "codemirror_mode": {
    "name": "ipython",
    "version": 3
   },
   "file_extension": ".py",
   "mimetype": "text/x-python",
   "name": "python",
   "nbconvert_exporter": "python",
   "pygments_lexer": "ipython3",
   "version": "3.8.12"
  }
 },
 "nbformat": 4,
 "nbformat_minor": 5
}
